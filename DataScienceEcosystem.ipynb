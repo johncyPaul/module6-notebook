{
 "cells": [
  {
   "cell_type": "markdown",
   "id": "f32f7cd6",
   "metadata": {},
   "source": [
    "<h1>Data Science Tools and Ecosystem<h1>"
   ]
  },
  {
   "cell_type": "markdown",
   "id": "2a581f39",
   "metadata": {},
   "source": [
    "In this notebook, Data Science Tools and Ecosystem are summarized."
   ]
  },
  {
   "cell_type": "markdown",
   "id": "1199df8a",
   "metadata": {},
   "source": [
    "Some of the popular languages that Data Scientists use are:"
   ]
  },
  {
   "cell_type": "markdown",
   "id": "252844cd",
   "metadata": {},
   "source": [
    "<ol>\n",
    "<li> Python </li>\n",
    "<li> R </li>\n",
    "<li> Scala </li>\n",
    "</ol>"
   ]
  },
  {
   "cell_type": "markdown",
   "id": "1f8d92d6",
   "metadata": {},
   "source": [
    "Some of the commonly used libraries used by Data Scientists include:"
   ]
  },
  {
   "cell_type": "markdown",
   "id": "62a93169",
   "metadata": {},
   "source": [
    "<ol>\n",
    "<li>matplotlib</li>\n",
    "<li>seaborn</li>\n",
    "<li>pandas</li>\n",
    "</ol>"
   ]
  },
  {
   "cell_type": "markdown",
   "id": "071adcd0",
   "metadata": {},
   "source": [
    "| |Data science Tools| |\n",
    "| --- | --- | --- |\n",
    "| Jupyter Notebook | RStudio | Spyder |"
   ]
  },
  {
   "cell_type": "markdown",
   "id": "33aa7cb1",
   "metadata": {},
   "source": [
    "<h3>Below are a few examples of evaluating arithmetic expressions in Python</h3>"
   ]
  },
  {
   "cell_type": "code",
   "execution_count": 5,
   "id": "b689726e",
   "metadata": {},
   "outputs": [
    {
     "data": {
      "text/plain": [
       "17"
      ]
     },
     "execution_count": 5,
     "metadata": {},
     "output_type": "execute_result"
    }
   ],
   "source": [
    "(3*4)+5 ##This a simple arithmetic expression to mutiply then add integers"
   ]
  },
  {
   "cell_type": "code",
   "execution_count": 6,
   "id": "c149eb90",
   "metadata": {},
   "outputs": [
    {
     "data": {
      "text/plain": [
       "3.3333333333333335"
      ]
     },
     "execution_count": 6,
     "metadata": {},
     "output_type": "execute_result"
    }
   ],
   "source": [
    "200/60 ##his will convert 200 minutes to hours by diving by 60"
   ]
  },
  {
   "cell_type": "markdown",
   "id": "21a3d605",
   "metadata": {},
   "source": [
    " __Objectives__"
   ]
  },
  {
   "cell_type": "markdown",
   "id": "317c1c8b",
   "metadata": {},
   "source": [
    "<ul>\n",
    "<li>Python</li>\n",
    "<li>SQL</li>\n",
    "<li>R.</li>\n",
    "<li>Java</li>\n",
    "<li>Julia</li>\n",
    "<li>Scala</li>\n",
    "<li>C</li>\n",
    "<li>C++</li>\n",
    "</ul>"
   ]
  },
  {
   "cell_type": "markdown",
   "id": "4202ed9a",
   "metadata": {},
   "source": [
    "Author"
   ]
  },
  {
   "cell_type": "markdown",
   "id": "f07f361d",
   "metadata": {},
   "source": [
    "<h2>Johncy Paul M </h2>"
   ]
  },
  {
   "cell_type": "code",
   "execution_count": null,
   "id": "7378b9df",
   "metadata": {},
   "outputs": [],
   "source": []
  }
 ],
 "metadata": {
  "kernelspec": {
   "display_name": "Python 3 (ipykernel)",
   "language": "python",
   "name": "python3"
  },
  "language_info": {
   "codemirror_mode": {
    "name": "ipython",
    "version": 3
   },
   "file_extension": ".py",
   "mimetype": "text/x-python",
   "name": "python",
   "nbconvert_exporter": "python",
   "pygments_lexer": "ipython3",
   "version": "3.11.3"
  }
 },
 "nbformat": 4,
 "nbformat_minor": 5
}
